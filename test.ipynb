{
 "cells": [
  {
   "cell_type": "code",
   "execution_count": null,
   "metadata": {},
   "outputs": [],
   "source": [
    "import tensorflow as tf"
   ]
  },
  {
   "cell_type": "markdown",
   "metadata": {},
   "source": []
  },
  {
   "cell_type": "code",
   "execution_count": null,
   "metadata": {},
   "outputs": [],
   "source": [
    "def encoder_block(inputs, num_filters): \n",
    "  \n",
    "    # Convolution with 3x3 filter followed by ReLU activation \n",
    "    x = tf.keras.layers.Conv2D(num_filters,  \n",
    "                               3,  \n",
    "                               padding = 'valid')(inputs) \n",
    "    x = tf.keras.layers.Activation('relu')(x) \n",
    "      \n",
    "    # Convolution with 3x3 filter followed by ReLU activation \n",
    "    x = tf.keras.layers.Conv2D(num_filters,  \n",
    "                               3,  \n",
    "                               padding = 'valid')(x) \n",
    "    x = tf.keras.layers.Activation('relu')(x) \n",
    "  \n",
    "    # Max Pooling with 2x2 filter \n",
    "    x = tf.keras.layers.MaxPool2D(pool_size = (2, 2), \n",
    "                                  strides = 2)(x) \n",
    "      \n",
    "    return x"
   ]
  },
  {
   "cell_type": "code",
   "execution_count": null,
   "metadata": {},
   "outputs": [],
   "source": [
    "def decoder_block(inputs, skip_features, num_filters): \n",
    "\n",
    "\t# Upsampling with 2x2 filter \n",
    "\tx = tf.keras.layers.Conv2DTranspose(num_filters, \n",
    "\t\t\t\t\t\t\t\t\t\t(2, 2), \n",
    "\t\t\t\t\t\t\t\t\t\tstrides = 2, \n",
    "\t\t\t\t\t\t\t\t\t\tpadding = 'valid')(inputs) \n",
    "\t\n",
    "\t# Copy and crop the skip features \n",
    "\t# to match the shape of the upsampled input \n",
    "\tskip_features = tf.image.resize(skip_features, \n",
    "\t\t\t\t\t\t\t\t\tsize = (x.shape[1], \n",
    "\t\t\t\t\t\t\t\t\t\t\tx.shape[2])) \n",
    "\tx = tf.keras.layers.Concatenate()([x, skip_features]) \n",
    "\t\n",
    "\t# Convolution with 3x3 filter followed by ReLU activation \n",
    "\tx = tf.keras.layers.Conv2D(num_filters, \n",
    "\t\t\t\t\t\t\t3, \n",
    "\t\t\t\t\t\t\tpadding = 'valid')(x) \n",
    "\tx = tf.keras.layers.Activation('relu')(x) \n",
    "\n",
    "\t# Convolution with 3x3 filter followed by ReLU activation \n",
    "\tx = tf.keras.layers.Conv2D(num_filters, 3, padding = 'valid')(x) \n",
    "\tx = tf.keras.layers.Activation('relu')(x) \n",
    "\t\n",
    "\treturn x\n"
   ]
  },
  {
   "cell_type": "code",
   "execution_count": null,
   "metadata": {},
   "outputs": [],
   "source": [
    "# Unet code \n",
    "import tensorflow as tf \n",
    "\n",
    "def unet_model(input_shape = (256, 256, 3), num_classes = 1): \n",
    "\tinputs = tf.keras.layers.Input(input_shape) \n",
    "\t\n",
    "\t# Contracting Path \n",
    "\ts1 = encoder_block(inputs, 64) \n",
    "\ts2 = encoder_block(s1, 128) \n",
    "\ts3 = encoder_block(s2, 256) \n",
    "\ts4 = encoder_block(s3, 512) \n",
    "\t\n",
    "\t# Bottleneck \n",
    "\tb1 = tf.keras.layers.Conv2D(1024, 3, padding = 'valid')(s4) \n",
    "\tb1 = tf.keras.layers.Activation('relu')(b1) \n",
    "\tb1 = tf.keras.layers.Conv2D(1024, 3, padding = 'valid')(b1) \n",
    "\tb1 = tf.keras.layers.Activation('relu')(b1) \n",
    "\t\n",
    "\t# Expansive Path \n",
    "\ts5 = decoder_block(b1, s4, 512) \n",
    "\ts6 = decoder_block(s5, s3, 256) \n",
    "\ts7 = decoder_block(s6, s2, 128) \n",
    "\ts8 = decoder_block(s7, s1, 64) \n",
    "\t\n",
    "\t# Output \n",
    "\toutputs = tf.keras.layers.Conv2D(num_classes, \n",
    "\t\t\t\t\t\t\t\t\t1, \n",
    "\t\t\t\t\t\t\t\t\tpadding = 'valid', \n",
    "\t\t\t\t\t\t\t\t\tactivation = 'sigmoid')(s8) \n",
    "\t\n",
    "\tmodel = tf.keras.models.Model(inputs = inputs, \n",
    "\t\t\t\t\t\t\t\toutputs = outputs, \n",
    "\t\t\t\t\t\t\t\tname = 'U-Net') \n",
    "\treturn model \n",
    "\n",
    "if __name__ == '__main__': \n",
    "\tmodel = unet_model(input_shape=(572, 572, 3), num_classes=2) \n",
    "\tmodel.summary()\n"
   ]
  }
 ],
 "metadata": {
  "language_info": {
   "name": "python"
  }
 },
 "nbformat": 4,
 "nbformat_minor": 2
}
